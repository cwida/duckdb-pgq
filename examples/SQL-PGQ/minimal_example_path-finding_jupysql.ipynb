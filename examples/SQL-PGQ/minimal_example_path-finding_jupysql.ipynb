{
 "cells": [
  {
   "cell_type": "code",
   "execution_count": 1,
   "id": "dde1c39f",
   "metadata": {},
   "outputs": [
    {
     "data": {
      "text/plain": [
       "'v0.7.1-dev648'"
      ]
     },
     "execution_count": 1,
     "metadata": {},
     "output_type": "execute_result"
    }
   ],
   "source": [
    "import duckdb\n",
    "from os import remove\n",
    "\n",
    "SF = 1\n",
    "\n",
    "duckdb.__version__"
   ]
  },
  {
   "cell_type": "code",
   "execution_count": 4,
   "id": "741558d4",
   "metadata": {},
   "outputs": [
    {
     "name": "stdout",
     "output_type": "stream",
     "text": [
      "Loaded dataset of scale factor 1\n"
     ]
    }
   ],
   "source": [
    "database_file = \"snb.duckdb\"\n",
    "\n",
    "con = duckdb.connect(database_file)\n",
    "schema = open(f\"SNB-SF{SF}-dataset/minimal_schema.sql\").read().split(\";\")\n",
    "for query in schema:\n",
    "    con.execute(query)\n",
    "load = open(f\"SNB-SF{SF}-dataset/minimal_load.sql\").read().split(\";\")\n",
    "for query in load:\n",
    "    con.execute(query)\n",
    "print(f\"Loaded dataset of scale factor {SF}\")\n",
    "\n",
    "con.close()"
   ]
  },
  {
   "cell_type": "code",
   "execution_count": 5,
   "id": "cf922655",
   "metadata": {},
   "outputs": [
    {
     "name": "stdout",
     "output_type": "stream",
     "text": [
      "\u001b[33mThere's a new jupysql version available (0.6.6), you're running 0.7.0.dev0. To upgrade: pip install jupysql --upgrade\u001b[0m\n"
     ]
    }
   ],
   "source": [
    "%load_ext sql\n"
   ]
  },
  {
   "cell_type": "code",
   "execution_count": 7,
   "id": "f26424da",
   "metadata": {},
   "outputs": [
    {
     "data": {
      "text/html": [
       "<div>\n",
       "<style scoped>\n",
       "    .dataframe tbody tr th:only-of-type {\n",
       "        vertical-align: middle;\n",
       "    }\n",
       "\n",
       "    .dataframe tbody tr th {\n",
       "        vertical-align: top;\n",
       "    }\n",
       "\n",
       "    .dataframe thead th {\n",
       "        text-align: right;\n",
       "    }\n",
       "</style>\n",
       "<table border=\"1\" class=\"dataframe\">\n",
       "  <thead>\n",
       "    <tr style=\"text-align: right;\">\n",
       "      <th></th>\n",
       "    </tr>\n",
       "  </thead>\n",
       "  <tbody>\n",
       "  </tbody>\n",
       "</table>\n",
       "</div>"
      ],
      "text/plain": [
       "Empty DataFrame\n",
       "Columns: []\n",
       "Index: []"
      ]
     },
     "execution_count": 7,
     "metadata": {},
     "output_type": "execute_result"
    }
   ],
   "source": [
    "%config SqlMagic.autopandas = True\n",
    "%config SqlMagic.feedback = False\n",
    "%config SqlMagic.displaycon = False\n",
    "\n",
    "%sql duckdb:///snb.duckdb\n",
    "\n",
    "%sql load 'sqlpgq'"
   ]
  },
  {
   "cell_type": "code",
   "execution_count": 8,
   "id": "deda1b22",
   "metadata": {},
   "outputs": [
    {
     "data": {
      "text/html": [
       "<div>\n",
       "<style scoped>\n",
       "    .dataframe tbody tr th:only-of-type {\n",
       "        vertical-align: middle;\n",
       "    }\n",
       "\n",
       "    .dataframe tbody tr th {\n",
       "        vertical-align: top;\n",
       "    }\n",
       "\n",
       "    .dataframe thead th {\n",
       "        text-align: right;\n",
       "    }\n",
       "</style>\n",
       "<table border=\"1\" class=\"dataframe\">\n",
       "  <thead>\n",
       "    <tr style=\"text-align: right;\">\n",
       "      <th></th>\n",
       "    </tr>\n",
       "  </thead>\n",
       "  <tbody>\n",
       "  </tbody>\n",
       "</table>\n",
       "</div>"
      ],
      "text/plain": [
       "Empty DataFrame\n",
       "Columns: []\n",
       "Index: []"
      ]
     },
     "execution_count": 8,
     "metadata": {},
     "output_type": "execute_result"
    }
   ],
   "source": [
    "%%sql\n",
    "    CREATE PROPERTY GRAPH social_network\n",
    "    VERTEX TABLES (\n",
    "        Person LABEL Person\n",
    "    )\n",
    "    EDGE TABLES (\n",
    "        Person_knows_Person \n",
    "            SOURCE KEY (Person1id) REFERENCES Person (id)\n",
    "            DESTINATION KEY (Person2id) REFERENCES Person (id)\n",
    "            LABEL Person_knows_Person\n",
    "    )"
   ]
  },
  {
   "cell_type": "code",
   "execution_count": null,
   "id": "cff66d9f",
   "metadata": {},
   "outputs": [],
   "source": [
    "%%sql\n",
    "    SELECT pg.firstname, pg.id, count(pg.reachable_people)\n",
    "    FROM GRAPH_TABLE (social_network,\n",
    "    MATCH (p:Person)-[k:Person_knows_Person]->{1,4}(p2:person)\n",
    "    WHERE p.firstname = 'Bob'\n",
    "    COLUMNS (p.firstName as firstname, p.id as id, p2.firstName as reachable_people) \n",
    "    ) pg\n",
    "    GROUP BY ALL"
   ]
  },
  {
   "cell_type": "code",
   "execution_count": null,
   "id": "624e2d46",
   "metadata": {},
   "outputs": [],
   "source": [
    "%%sql\n",
    "            SELECT pg.firstname, pg.id, count(pg.reachable_people)\n",
    "            FROM GRAPH_TABLE (social_network,\n",
    "            MATCH (p:Person)-[k:Person_knows_Person]-> *(p2:person)\n",
    "            WHERE p.firstname = 'Bob'\n",
    "            COLUMNS (p.firstName as firstname, p.id as id, p2.firstName as reachable_people) \n",
    "            ) pg\n",
    "            GROUP BY ALL"
   ]
  }
 ],
 "metadata": {
  "kernelspec": {
   "display_name": "Python 3 (ipykernel)",
   "language": "python",
   "name": "python3"
  },
  "language_info": {
   "codemirror_mode": {
    "name": "ipython",
    "version": 3
   },
   "file_extension": ".py",
   "mimetype": "text/x-python",
   "name": "python",
   "nbconvert_exporter": "python",
   "pygments_lexer": "ipython3",
   "version": "3.10.9"
  }
 },
 "nbformat": 4,
 "nbformat_minor": 5
}
