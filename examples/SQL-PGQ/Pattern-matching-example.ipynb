{
 "cells": [
  {
   "cell_type": "code",
   "execution_count": 1,
   "id": "b7a6b6b4",
   "metadata": {
    "scrolled": true
   },
   "outputs": [
    {
     "data": {
      "text/plain": [
       "'v0.7.1-dev648'"
      ]
     },
     "execution_count": 1,
     "metadata": {},
     "output_type": "execute_result"
    }
   ],
   "source": [
    "import duckdb\n",
    "\n",
    "duckdb.__version__"
   ]
  },
  {
   "cell_type": "code",
   "execution_count": 2,
   "id": "a0e0fa5a",
   "metadata": {
    "scrolled": true
   },
   "outputs": [],
   "source": [
    "%load_ext sql\n",
    "\n",
    "%config SqlMagic.autopandas = True\n",
    "%config SqlMagic.feedback = False\n",
    "%config SqlMagic.displaycon = False\n"
   ]
  },
  {
   "cell_type": "code",
   "execution_count": 3,
   "id": "5bb70e3b",
   "metadata": {
    "scrolled": true
   },
   "outputs": [
    {
     "data": {
      "text/html": [
       "<div>\n",
       "<style scoped>\n",
       "    .dataframe tbody tr th:only-of-type {\n",
       "        vertical-align: middle;\n",
       "    }\n",
       "\n",
       "    .dataframe tbody tr th {\n",
       "        vertical-align: top;\n",
       "    }\n",
       "\n",
       "    .dataframe thead th {\n",
       "        text-align: right;\n",
       "    }\n",
       "</style>\n",
       "<table border=\"1\" class=\"dataframe\">\n",
       "  <thead>\n",
       "    <tr style=\"text-align: right;\">\n",
       "      <th></th>\n",
       "    </tr>\n",
       "  </thead>\n",
       "  <tbody>\n",
       "  </tbody>\n",
       "</table>\n",
       "</div>"
      ],
      "text/plain": [
       "Empty DataFrame\n",
       "Columns: []\n",
       "Index: []"
      ]
     },
     "execution_count": 3,
     "metadata": {},
     "output_type": "execute_result"
    }
   ],
   "source": [
    "%sql duckdb:///snb.duckdb\n",
    "\n",
    "%sql load 'sqlpgq'"
   ]
  },
  {
   "cell_type": "code",
   "execution_count": 4,
   "id": "8bf88f4e",
   "metadata": {
    "scrolled": true
   },
   "outputs": [
    {
     "data": {
      "text/html": [
       "<div>\n",
       "<style scoped>\n",
       "    .dataframe tbody tr th:only-of-type {\n",
       "        vertical-align: middle;\n",
       "    }\n",
       "\n",
       "    .dataframe tbody tr th {\n",
       "        vertical-align: top;\n",
       "    }\n",
       "\n",
       "    .dataframe thead th {\n",
       "        text-align: right;\n",
       "    }\n",
       "</style>\n",
       "<table border=\"1\" class=\"dataframe\">\n",
       "  <thead>\n",
       "    <tr style=\"text-align: right;\">\n",
       "      <th></th>\n",
       "    </tr>\n",
       "  </thead>\n",
       "  <tbody>\n",
       "  </tbody>\n",
       "</table>\n",
       "</div>"
      ],
      "text/plain": [
       "Empty DataFrame\n",
       "Columns: []\n",
       "Index: []"
      ]
     },
     "execution_count": 4,
     "metadata": {},
     "output_type": "execute_result"
    }
   ],
   "source": [
    "%%sql\n",
    "    CREATE PROPERTY GRAPH social_network\n",
    "    VERTEX TABLES (\n",
    "        Person PROPERTIES (id, firstName, lastName) LABEL Person,\n",
    "\n",
    "        University PROPERTIES (id, name) LABEL University,\n",
    "\n",
    "        Tag Properties (id, name, url) LABEL Tag\n",
    "    )\n",
    "    EDGE TABLES (\n",
    "       Person_studyAt_University \n",
    "            SOURCE KEY (PersonId) REFERENCES Person (id)\n",
    "            DESTINATION KEY (UniversityId) REFERENCES University (id)\n",
    "            PROPERTIES (classYear)\n",
    "            LABEL Person_studyAt_University,\n",
    "\n",
    "        Person_hasInterest_Tag \n",
    "            SOURCE KEY (PersonId) REFERENCES Person (id)\n",
    "            DESTINATION KEY (TagId) REFERENCES Tag (id) \n",
    "            PROPERTIES (creationDate)\n",
    "            LABEL Person_hasInterest_Tag,\n",
    "\n",
    "        Person_knows_Person \n",
    "            SOURCE KEY (Person1id) REFERENCES Person (id)\n",
    "            DESTINATION KEY (Person2id) REFERENCES Person (id)\n",
    "            LABEL Person_knows_Person\n",
    "    )"
   ]
  },
  {
   "cell_type": "code",
   "execution_count": 9,
   "id": "801b2d42",
   "metadata": {
    "scrolled": true
   },
   "outputs": [
    {
     "data": {
      "text/html": [
       "<div>\n",
       "<style scoped>\n",
       "    .dataframe tbody tr th:only-of-type {\n",
       "        vertical-align: middle;\n",
       "    }\n",
       "\n",
       "    .dataframe tbody tr th {\n",
       "        vertical-align: top;\n",
       "    }\n",
       "\n",
       "    .dataframe thead th {\n",
       "        text-align: right;\n",
       "    }\n",
       "</style>\n",
       "<table border=\"1\" class=\"dataframe\">\n",
       "  <thead>\n",
       "    <tr style=\"text-align: right;\">\n",
       "      <th></th>\n",
       "      <th>bob</th>\n",
       "      <th>bob_id</th>\n",
       "      <th>number_of_friends</th>\n",
       "    </tr>\n",
       "  </thead>\n",
       "  <tbody>\n",
       "    <tr>\n",
       "      <th>0</th>\n",
       "      <td>Bob</td>\n",
       "      <td>977</td>\n",
       "      <td>100</td>\n",
       "    </tr>\n",
       "    <tr>\n",
       "      <th>1</th>\n",
       "      <td>Bob</td>\n",
       "      <td>10995116285001</td>\n",
       "      <td>10</td>\n",
       "    </tr>\n",
       "    <tr>\n",
       "      <th>2</th>\n",
       "      <td>Bob</td>\n",
       "      <td>28587302324999</td>\n",
       "      <td>1</td>\n",
       "    </tr>\n",
       "  </tbody>\n",
       "</table>\n",
       "</div>"
      ],
      "text/plain": [
       "   bob          bob_id  number_of_friends\n",
       "0  Bob             977                100\n",
       "1  Bob  10995116285001                 10\n",
       "2  Bob  28587302324999                  1"
      ]
     },
     "execution_count": 9,
     "metadata": {},
     "output_type": "execute_result"
    }
   ],
   "source": [
    "%%sql\n",
    "    SELECT pg.bob, pg.bob_id, count(pg.friend_name) as number_of_friends\n",
    "\n",
    "    FROM GRAPH_TABLE (social_network,\n",
    "    MATCH (p:Person WHERE p.firstName = 'Bob')-[k:Person_knows_Person]->(p2:person)\n",
    "    COLUMNS (p.firstName as bob, p.id as bob_id, p2.firstName as friend_name) \n",
    "    ) pg\n",
    "\n",
    "    GROUP BY pg.bob, pg.bob_id"
   ]
  },
  {
   "cell_type": "code",
   "execution_count": 24,
   "id": "8f3a9fa3",
   "metadata": {
    "scrolled": true
   },
   "outputs": [],
   "source": [
    "%%sql\n",
    "    query_plan << EXPLAIN SELECT pg.bob, pg.bob_id, count(pg.friend_name) as number_of_friends\n",
    "\n",
    "    FROM GRAPH_TABLE (social_network,\n",
    "    MATCH (p:Person WHERE p.firstName = 'Bob')-[k:Person_knows_Person]->(p2:person)\n",
    "    COLUMNS (p.firstName as bob, p.id as bob_id, p2.firstName as friend_name) \n",
    "    ) pg\n",
    "\n",
    "    GROUP BY pg.bob, pg.bob_id"
   ]
  },
  {
   "cell_type": "code",
   "execution_count": 25,
   "id": "2f9e97ae",
   "metadata": {
    "scrolled": true
   },
   "outputs": [
    {
     "name": "stdout",
     "output_type": "stream",
     "text": [
      "┌───────────────────────────┐                                                          \n",
      "│       HASH_GROUP_BY       │                                                          \n",
      "│   ─ ─ ─ ─ ─ ─ ─ ─ ─ ─ ─   │                                                          \n",
      "│             #0            │                                                          \n",
      "│             #1            │                                                          \n",
      "│        count_star()       │                                                          \n",
      "└─────────────┬─────────────┘                                                                                       \n",
      "┌─────────────┴─────────────┐                                                          \n",
      "│         PROJECTION        │                                                          \n",
      "│   ─ ─ ─ ─ ─ ─ ─ ─ ─ ─ ─   │                                                          \n",
      "│            bob            │                                                          \n",
      "│           bob_id          │                                                          \n",
      "└─────────────┬─────────────┘                                                                                       \n",
      "┌─────────────┴─────────────┐                                                          \n",
      "│         PROJECTION        │                                                          \n",
      "│   ─ ─ ─ ─ ─ ─ ─ ─ ─ ─ ─   │                                                          \n",
      "│            bob            │                                                          \n",
      "│           bob_id          │                                                          \n",
      "│        friend_name        │                                                          \n",
      "└─────────────┬─────────────┘                                                                                       \n",
      "┌─────────────┴─────────────┐                                                          \n",
      "│         HASH_JOIN         │                                                          \n",
      "│   ─ ─ ─ ─ ─ ─ ─ ─ ─ ─ ─   │                                                          \n",
      "│           INNER           │                                                          \n",
      "│       id = Person2id      ├──────────────┐                                           \n",
      "│   ─ ─ ─ ─ ─ ─ ─ ─ ─ ─ ─   │              │                                           \n",
      "│          EC: 134          │              │                                           \n",
      "│         Cost: 268         │              │                                           \n",
      "└─────────────┬─────────────┘              │                                                                        \n",
      "┌─────────────┴─────────────┐┌─────────────┴─────────────┐                             \n",
      "│          SEQ_SCAN         ││         HASH_JOIN         │                             \n",
      "│   ─ ─ ─ ─ ─ ─ ─ ─ ─ ─ ─   ││   ─ ─ ─ ─ ─ ─ ─ ─ ─ ─ ─   │                             \n",
      "│           Person          ││           INNER           │                             \n",
      "│   ─ ─ ─ ─ ─ ─ ─ ─ ─ ─ ─   ││       Person1id = id      │                             \n",
      "│             id            ││   ─ ─ ─ ─ ─ ─ ─ ─ ─ ─ ─   ├──────────────┐              \n",
      "│         firstName         ││          EC: 134          │              │              \n",
      "│   ─ ─ ─ ─ ─ ─ ─ ─ ─ ─ ─   ││         Cost: 134         │              │              \n",
      "│         EC: 10295         ││                           │              │              \n",
      "└───────────────────────────┘└─────────────┬─────────────┘              │                                           \n",
      "                             ┌─────────────┴─────────────┐┌─────────────┴─────────────┐\n",
      "                             │          SEQ_SCAN         ││          SEQ_SCAN         │\n",
      "                             │   ─ ─ ─ ─ ─ ─ ─ ─ ─ ─ ─   ││   ─ ─ ─ ─ ─ ─ ─ ─ ─ ─ ─   │\n",
      "                             │    Person_knows_Person    ││           Person          │\n",
      "                             │   ─ ─ ─ ─ ─ ─ ─ ─ ─ ─ ─   ││   ─ ─ ─ ─ ─ ─ ─ ─ ─ ─ ─   │\n",
      "                             │         Person1id         ││         firstName         │\n",
      "                             │         Person2id         ││             id            │\n",
      "                             │   ─ ─ ─ ─ ─ ─ ─ ─ ─ ─ ─   ││   ─ ─ ─ ─ ─ ─ ─ ─ ─ ─ ─   │\n",
      "                             │         EC: 173014        ││ Filters: firstName=Bob AND│\n",
      "                             │                           ││    firstName IS NOT NULL  │\n",
      "                             │                           ││   ─ ─ ─ ─ ─ ─ ─ ─ ─ ─ ─   │\n",
      "                             │                           ││           EC: 8           │\n",
      "                             └───────────────────────────┘└───────────────────────────┘                             \n",
      "\n"
     ]
    }
   ],
   "source": [
    "print(query_plan['explain_value'][0])"
   ]
  },
  {
   "cell_type": "code",
   "execution_count": 30,
   "id": "3132f894",
   "metadata": {
    "scrolled": true
   },
   "outputs": [
    {
     "data": {
      "text/html": [
       "<div>\n",
       "<style scoped>\n",
       "    .dataframe tbody tr th:only-of-type {\n",
       "        vertical-align: middle;\n",
       "    }\n",
       "\n",
       "    .dataframe tbody tr th {\n",
       "        vertical-align: top;\n",
       "    }\n",
       "\n",
       "    .dataframe thead th {\n",
       "        text-align: right;\n",
       "    }\n",
       "</style>\n",
       "<table border=\"1\" class=\"dataframe\">\n",
       "  <thead>\n",
       "    <tr style=\"text-align: right;\">\n",
       "      <th></th>\n",
       "      <th>firstname</th>\n",
       "      <th>id</th>\n",
       "      <th>count(pg.reachable_people)</th>\n",
       "    </tr>\n",
       "  </thead>\n",
       "  <tbody>\n",
       "    <tr>\n",
       "      <th>0</th>\n",
       "      <td>Bob</td>\n",
       "      <td>977</td>\n",
       "      <td>8291</td>\n",
       "    </tr>\n",
       "    <tr>\n",
       "      <th>1</th>\n",
       "      <td>Bob</td>\n",
       "      <td>10995116285001</td>\n",
       "      <td>5079</td>\n",
       "    </tr>\n",
       "    <tr>\n",
       "      <th>2</th>\n",
       "      <td>Bob</td>\n",
       "      <td>28587302324999</td>\n",
       "      <td>87</td>\n",
       "    </tr>\n",
       "  </tbody>\n",
       "</table>\n",
       "</div>"
      ],
      "text/plain": [
       "  firstname              id  count(pg.reachable_people)\n",
       "0       Bob             977                        8291\n",
       "1       Bob  10995116285001                        5079\n",
       "2       Bob  28587302324999                          87"
      ]
     },
     "execution_count": 30,
     "metadata": {},
     "output_type": "execute_result"
    }
   ],
   "source": [
    "%%sql SELECT pg.firstname, pg.id, count(pg.reachable_people)\n",
    "FROM GRAPH_TABLE (social_network,\n",
    "MATCH (p:Person)-[k:Person_knows_Person]->{1,4}(p2:person)\n",
    "WHERE p.firstname = 'Bob'\n",
    "COLUMNS (p.firstName as firstname, p.id as id, p2.firstName as reachable_people) \n",
    ") pg\n",
    "GROUP BY ALL;"
   ]
  }
 ],
 "metadata": {
  "kernelspec": {
   "display_name": "Python 3 (ipykernel)",
   "language": "python",
   "name": "python3"
  },
  "language_info": {
   "codemirror_mode": {
    "name": "ipython",
    "version": 3
   },
   "file_extension": ".py",
   "mimetype": "text/x-python",
   "name": "python",
   "nbconvert_exporter": "python",
   "pygments_lexer": "ipython3",
   "version": "3.10.9"
  }
 },
 "nbformat": 4,
 "nbformat_minor": 5
}
