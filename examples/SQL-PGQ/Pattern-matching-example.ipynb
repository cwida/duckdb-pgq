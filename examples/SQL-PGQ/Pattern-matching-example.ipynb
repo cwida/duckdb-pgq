{
 "cells": [
  {
   "cell_type": "code",
   "execution_count": 16,
   "id": "b7a6b6b4",
   "metadata": {},
   "outputs": [
    {
     "data": {
      "text/plain": [
       "'v0.7.1-dev648'"
      ]
     },
     "execution_count": 16,
     "metadata": {},
     "output_type": "execute_result"
    }
   ],
   "source": [
    "import duckdb\n",
    "from os import remove\n",
    "\n",
    "SF = 1\n",
    "\n",
    "duckdb.__version__"
   ]
  },
  {
   "cell_type": "code",
   "execution_count": 14,
   "id": "5a1b396f",
   "metadata": {},
   "outputs": [
    {
     "name": "stdout",
     "output_type": "stream",
     "text": [
      "Loaded dataset of scale factor 1\n"
     ]
    }
   ],
   "source": [
    "database_file = \"snb.duckdb\"\n",
    "\n",
    "con = duckdb.connect(database_file)\n",
    "schema = open(f\"SNB-SF{SF}-dataset/schema.sql\").read().split(\";\")\n",
    "for query in schema:\n",
    "    con.execute(query)\n",
    "load = open(f\"SNB-SF{SF}-dataset/load.sql\").read().split(\";\")\n",
    "for query in load:\n",
    "    con.execute(query)\n",
    "print(f\"Loaded dataset of scale factor {SF}\")"
   ]
  },
  {
   "cell_type": "code",
   "execution_count": 15,
   "id": "07f53202",
   "metadata": {},
   "outputs": [],
   "source": [
    "con.sql(\"\"\"load 'sqlpgq'\"\"\")"
   ]
  },
  {
   "cell_type": "code",
   "execution_count": null,
   "id": "b38a3e1a",
   "metadata": {},
   "outputs": [],
   "source": [
    "con.sql(\"\"\"CREATE PROPERTY GRAPH social_network\n",
    "    VERTEX TABLES (\n",
    "        Person PROPERTIES (id, firstName, lastName) LABEL Person,\n",
    "\n",
    "        University PROPERTIES ARE ALL COLUMNS EXCEPT (type) LABEL University,\n",
    "\n",
    "        Tag LABEL Tag\n",
    "    )\n",
    "    EDGE TABLES (\n",
    "       Person_studyAt_University \n",
    "            SOURCE KEY (PersonId) REFERENCES Person (id)\n",
    "            DESTINATION KEY (UniversityId) REFERENCES University (id)\n",
    "            PROPERTIES (PersonId, UniversityId, classYear)\n",
    "            LABEL Person_studyAt_University,\n",
    "\n",
    "        Person_hasInterest_Tag \n",
    "            SOURCE KEY (PersonId) REFERENCES Person (id)\n",
    "            DESTINATION KEY (TagId) REFERENCES Tag (id) \n",
    "            PROPERTIES ARE ALL COLUMNS EXCEPT (creationDate)\n",
    "            LABEL Person_hasInterest_Tag,\n",
    "\n",
    "        Person_knows_Person \n",
    "            SOURCE KEY (Person1id) REFERENCES Person (id)\n",
    "            DESTINATION KEY (Person2id) REFERENCES Person (id)\n",
    "            LABEL Person_knows_Person\n",
    "    )\"\"\")"
   ]
  },
  {
   "cell_type": "code",
   "execution_count": null,
   "id": "e0690e85",
   "metadata": {},
   "outputs": [],
   "source": [
    "con.sql(\"\"\"\n",
    "    SELECT pg.bob, pg.bob_id, count(pg.friend_name) as number_of_friends\n",
    "\n",
    "    FROM GRAPH_TABLE (social_network,\n",
    "    MATCH (p:Person WHERE p.firstName = 'Bob')-[k:Person_knows_Person]->(p2:person)\n",
    "    COLUMNS (p.firstName as bob, p.id as bob_id, p2.firstName as friend_name) \n",
    "    ) pg\n",
    "\n",
    "    GROUP BY pg.bob, pg.bob_id\n",
    "\"\"\").fetchdf()"
   ]
  },
  {
   "cell_type": "code",
   "execution_count": null,
   "id": "6586a97b",
   "metadata": {},
   "outputs": [],
   "source": [
    "print(con.sql(\"\"\"\n",
    "    SELECT pg.bob, pg.bob_id, count(pg.friend_name) as number_of_friends\n",
    "\n",
    "    FROM GRAPH_TABLE (social_network,\n",
    "    MATCH (p:Person WHERE p.firstName = 'Bob')-[k:Person_knows_Person]->(p2:person)\n",
    "    COLUMNS (p.firstName as bob, p.id as bob_id, p2.firstName as friend_name) \n",
    "    ) pg\n",
    "\n",
    "    GROUP BY pg.bob, pg.bob_id\n",
    "\"\"\").explain())\n"
   ]
  },
  {
   "cell_type": "code",
   "execution_count": null,
   "id": "cbd7ba50",
   "metadata": {
    "scrolled": false
   },
   "outputs": [],
   "source": [
    "print(con.sql(\"\"\"\n",
    "    SELECT pg.firstname, pg.id, count(pg.reachable_people)\n",
    "    FROM GRAPH_TABLE (social_network,\n",
    "    MATCH (p:Person)-[k:Person_knows_Person]->{1,4}(p2:person)\n",
    "    WHERE p.firstname = 'Bob'\n",
    "    COLUMNS (p.firstName as firstname, p.id as id, p2.firstName as reachable_people) \n",
    "    ) pg\n",
    "    GROUP BY ALL\n",
    "\"\"\").explain())\n"
   ]
  },
  {
   "cell_type": "code",
   "execution_count": null,
   "id": "09e397de",
   "metadata": {},
   "outputs": [],
   "source": [
    "EXPLAIN SELECT pg.firstname, pg.id, count(pg.reachable_people)\n",
    "FROM GRAPH_TABLE (social_network,\n",
    "MATCH (p:Person)-[k:Person_knows_Person]->{1,4}(p2:person)\n",
    "WHERE p.firstname = 'Bob'\n",
    "COLUMNS (p.firstName as firstname, p.id as id, p2.firstName as reachable_people) \n",
    ") pg\n",
    "GROUP BY ALL;"
   ]
  },
  {
   "cell_type": "code",
   "execution_count": 17,
   "id": "a0e0fa5a",
   "metadata": {},
   "outputs": [
    {
     "name": "stdout",
     "output_type": "stream",
     "text": [
      "The sql extension is already loaded. To reload it, use:\n",
      "  %reload_ext sql\n"
     ]
    }
   ],
   "source": [
    "%load_ext sql\n"
   ]
  },
  {
   "cell_type": "code",
   "execution_count": 18,
   "id": "5bb70e3b",
   "metadata": {},
   "outputs": [
    {
     "data": {
      "text/html": [
       "<div>\n",
       "<style scoped>\n",
       "    .dataframe tbody tr th:only-of-type {\n",
       "        vertical-align: middle;\n",
       "    }\n",
       "\n",
       "    .dataframe tbody tr th {\n",
       "        vertical-align: top;\n",
       "    }\n",
       "\n",
       "    .dataframe thead th {\n",
       "        text-align: right;\n",
       "    }\n",
       "</style>\n",
       "<table border=\"1\" class=\"dataframe\">\n",
       "  <thead>\n",
       "    <tr style=\"text-align: right;\">\n",
       "      <th></th>\n",
       "    </tr>\n",
       "  </thead>\n",
       "  <tbody>\n",
       "  </tbody>\n",
       "</table>\n",
       "</div>"
      ],
      "text/plain": [
       "Empty DataFrame\n",
       "Columns: []\n",
       "Index: []"
      ]
     },
     "execution_count": 18,
     "metadata": {},
     "output_type": "execute_result"
    }
   ],
   "source": [
    "%config SqlMagic.autopandas = True\n",
    "%config SqlMagic.feedback = False\n",
    "%config SqlMagic.displaycon = False\n",
    "\n",
    "%sql duckdb:///snb.duckdb\n",
    "\n",
    "%sql load 'sqlpgq'"
   ]
  },
  {
   "cell_type": "code",
   "execution_count": 19,
   "id": "684ffbec",
   "metadata": {},
   "outputs": [
    {
     "name": "stdout",
     "output_type": "stream",
     "text": [
      "(duckdb.ParserException) Parser Error: syntax error at or near \"1\"\n",
      "LINE 3: ...g.firstname, pg.id, count(pg.reachable_people)\n",
      "    FROM GRAPH_TABLE (social_network,\n",
      "    MATCH (p:Person)-[k:Person_knows_Person]->(1, 4)(p2:person)\n",
      "                                                  ^\n",
      "[SQL: SELECT pg.firstname, pg.id, count(pg.reachable_people)\n",
      "    FROM GRAPH_TABLE (social_network,\n",
      "    MATCH (p:Person)-[k:Person_knows_Person]->(1, 4)(p2:person)\n",
      "    WHERE p.firstname = 'Bob'\n",
      "    COLUMNS (p.firstName as firstname, p.id as id, p2.firstName as reachable_people) \n",
      "    ) pg\n",
      "    GROUP BY ALL]\n",
      "(Background on this error at: https://sqlalche.me/e/14/f405)\n"
     ]
    },
    {
     "name": "stderr",
     "output_type": "stream",
     "text": [
      "/Users/dljtw/git/duckdb-pgq/.venv/lib/python3.10/site-packages/sql/command.py:109: FutureWarning: Variable substitution with $var and {var} has been deprecated and will be removed in a future version. Use {{var}} instead. To remove this, see: https://jupysql.ploomber.io/en/latest/howto.html#ignore-deprecation-warnings\n",
      "  warnings.warn(msg, FutureWarning)\n"
     ]
    }
   ],
   "source": [
    "%%sql\n",
    "    SELECT pg.firstname, pg.id, count(pg.reachable_people)\n",
    "    FROM GRAPH_TABLE (social_network,\n",
    "    MATCH (p:Person)-[k:Person_knows_Person]->{1,4}(p2:person)\n",
    "    WHERE p.firstname = 'Bob'\n",
    "    COLUMNS (p.firstName as firstname, p.id as id, p2.firstName as reachable_people) \n",
    "    ) pg\n",
    "    GROUP BY ALL"
   ]
  },
  {
   "cell_type": "code",
   "execution_count": null,
   "id": "004f01f1",
   "metadata": {},
   "outputs": [],
   "source": [
    "%sql select {1,4} from person limit 10"
   ]
  },
  {
   "cell_type": "code",
   "execution_count": null,
   "id": "ec08a40a",
   "metadata": {},
   "outputs": [],
   "source": [
    "%%sql\n",
    "            SELECT pg.firstname, pg.id, count(pg.reachable_people)\n",
    "            FROM GRAPH_TABLE (social_network,\n",
    "            MATCH (p:Person)-[k:Person_knows_Person]-> +(p2:person)\n",
    "            WHERE p.firstname = 'Bob'\n",
    "            COLUMNS (p.firstName as firstname, p.id as id, p2.firstName as reachable_people) \n",
    "            ) pg\n",
    "            GROUP BY ALL"
   ]
  },
  {
   "cell_type": "code",
   "execution_count": null,
   "id": "d2fc740f",
   "metadata": {},
   "outputs": [],
   "source": [
    "%%sql\n",
    "            SELECT pg.firstname, pg.id, count(pg.reachable_people)\n",
    "            FROM GRAPH_TABLE (social_network,\n",
    "            MATCH (p:Person)-[k:Person_knows_Person]-> *(p2:person)\n",
    "            WHERE p.firstname = 'Bob'\n",
    "            COLUMNS (p.firstName as firstname, p.id as id, p2.firstName as reachable_people) \n",
    "            ) pg\n",
    "            GROUP BY ALL"
   ]
  },
  {
   "cell_type": "code",
   "execution_count": null,
   "id": "2eed0005",
   "metadata": {},
   "outputs": [],
   "source": [
    "%%sql\n",
    "    CREATE PROPERTY GRAPH social_network\n",
    "    VERTEX TABLES (\n",
    "        Person PROPERTIES (id, firstName, lastName) LABEL Person,\n",
    "\n",
    "        University PROPERTIES ARE ALL COLUMNS EXCEPT (type) LABEL University,\n",
    "\n",
    "        Tag LABEL Tag\n",
    "    )\n",
    "    EDGE TABLES (\n",
    "       Person_studyAt_University \n",
    "            SOURCE KEY (PersonId) REFERENCES Person (id)\n",
    "            DESTINATION KEY (UniversityId) REFERENCES University (id)\n",
    "            PROPERTIES (PersonId, UniversityId, classYear)\n",
    "            LABEL Person_studyAt_University,\n",
    "\n",
    "        Person_hasInterest_Tag \n",
    "            SOURCE KEY (PersonId) REFERENCES Person (id)\n",
    "            DESTINATION KEY (TagId) REFERENCES Tag (id) \n",
    "            PROPERTIES ARE ALL COLUMNS EXCEPT (creationDate)\n",
    "            LABEL Person_hasInterest_Tag,\n",
    "\n",
    "        Person_knows_Person \n",
    "            SOURCE KEY (Person1id) REFERENCES Person (id)\n",
    "            DESTINATION KEY (Person2id) REFERENCES Person (id)\n",
    "            LABEL Person_knows_Person\n",
    "    )"
   ]
  },
  {
   "cell_type": "code",
   "execution_count": null,
   "id": "d23c6eb5",
   "metadata": {},
   "outputs": [],
   "source": [
    "%%sql\n",
    "    SELECT pg.p1name, pg.p2name\n",
    "    FROM GRAPH_TABLE (social_network,\n",
    "    MATCH (p:Person)-[k:Person_knows_Person]->(p2:person)-[i:Person_hasInterest_Tag]->\n",
    "    (t:Tag WHERE t.id = 6)-[i2:Person_hasInterest_Tag]-(p:Person)\n",
    "    COLUMNS (p.firstName as p1name, p2.firstName as p2name) \n",
    "    ) pg\n",
    "    ORDER BY pg.p1name, pg.p2name\n"
   ]
  },
  {
   "cell_type": "code",
   "execution_count": null,
   "id": "801b2d42",
   "metadata": {},
   "outputs": [],
   "source": [
    "%%sql\n",
    "    SELECT pg.bob, pg.bob_id, count(pg.friend_name) as number_of_friends\n",
    "\n",
    "    FROM GRAPH_TABLE (social_network,\n",
    "    MATCH (p:Person WHERE p.firstName = 'Bob')-[k:Person_knows_Person]->(p2:person)\n",
    "    COLUMNS (p.firstName as bob, p.id as bob_id, p2.firstName as friend_name) \n",
    "    ) pg\n",
    "\n",
    "    GROUP BY pg.bob, pg.bob_id"
   ]
  }
 ],
 "metadata": {
  "kernelspec": {
   "display_name": "Python 3 (ipykernel)",
   "language": "python",
   "name": "python3"
  },
  "language_info": {
   "codemirror_mode": {
    "name": "ipython",
    "version": 3
   },
   "file_extension": ".py",
   "mimetype": "text/x-python",
   "name": "python",
   "nbconvert_exporter": "python",
   "pygments_lexer": "ipython3",
   "version": "3.10.9"
  }
 },
 "nbformat": 4,
 "nbformat_minor": 5
}
